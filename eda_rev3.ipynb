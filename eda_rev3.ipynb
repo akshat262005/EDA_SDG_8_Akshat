{
 "cells": [
  {
   "cell_type": "code",
   "execution_count": 5,
   "id": "934a84b1-508d-49b2-8bf4-d3b0e6c724a2",
   "metadata": {},
   "outputs": [],
   "source": [
    "import pandas as pd\n",
    "from mlxtend.frequent_patterns import apriori, association_rules\n",
    "from mlxtend.frequent_patterns import fpgrowth\n",
    "from mlxtend.frequent_patterns import fpmax\n",
    "from mlxtend.frequent_patterns import association_rules\n"
   ]
  },
  {
   "cell_type": "code",
   "execution_count": 6,
   "id": "f38b0b8c-3579-4e5d-82ac-758b3cf0a353",
   "metadata": {},
   "outputs": [
    {
     "name": "stdout",
     "output_type": "stream",
     "text": [
      "     Index Number  Rank                                Country/Economy  \\\n",
      "0              NaN  NaN                                            NaN   \n",
      "1              0.0    1                                  United States   \n",
      "2              1.0    2                                          China   \n",
      "3              2.0    3                                          Japan   \n",
      "4              3.0    4                                        Germany   \n",
      "..             ...  ...                                            ...   \n",
      "226          225.0    -  Saint Helena, Ascension, and Tristan da Cunha   \n",
      "227          226.0    -                                        Tokelau   \n",
      "228          227.0    -                       Turks and Caicos Islands   \n",
      "229          228.0    -                              Wallis and Futuna   \n",
      "230          229.0    -                                 Western Sahara   \n",
      "\n",
      "    GDP (millions of $) Agriculture GDP Unnamed: 5 Unnamed: 6 Industry  \\\n",
      "0                   NaN             GDP       Rank   % of GDP      GDP   \n",
      "1              19360000          174240          3        0.9  3659040   \n",
      "2              11940000          991020          1        8.3  4716300   \n",
      "3               4884000           48840         13          1  1450548   \n",
      "4               3652000           21912         31        0.6  1099252   \n",
      "..                  ...             ...        ...        ...      ...   \n",
      "226                   -               -          -          -        -   \n",
      "227                   -               -          -          -        -   \n",
      "228                   -               -          -        0.5        -   \n",
      "229                   -               -          -          -        -   \n",
      "230                   -               -          -          -        -   \n",
      "\n",
      "    Unnamed: 8 Unnamed: 9  Services Unnamed: 11 Unnamed: 12 Year GDP   \\\n",
      "0         Rank   % of GDP       GDP        Rank    % of GDP       NaN   \n",
      "1            2       18.9  15526720           1        80.2      2017   \n",
      "2            1       39.5   6232680           2        52.2      2017   \n",
      "3            3       29.7   3384612           3        69.3      2017   \n",
      "4            4       30.1   2530836           4        69.3      2016   \n",
      "..         ...        ...       ...         ...         ...       ...   \n",
      "226          -          -         -           -           -         -   \n",
      "227          -          -         -           -           -         -   \n",
      "228          -        8.9         -           -        90.6         -   \n",
      "229          -          -         -           -           -         -   \n",
      "230          -          -         -           -          40         -   \n",
      "\n",
      "    Year Sector  \n",
      "0           NaN  \n",
      "1          2017  \n",
      "2          2017  \n",
      "3          2017  \n",
      "4          2017  \n",
      "..          ...  \n",
      "226           -  \n",
      "227           -  \n",
      "228        2017  \n",
      "229           -  \n",
      "230        2007  \n",
      "\n",
      "[231 rows x 15 columns]\n"
     ]
    }
   ],
   "source": [
    "data = pd.read_csv('dataset.csv')\n",
    "print(data)"
   ]
  },
  {
   "cell_type": "code",
   "execution_count": 3,
   "id": "26347920-51a4-4a2d-bcfa-0763216825fa",
   "metadata": {},
   "outputs": [],
   "source": [
    "# Convert GDP Category into one-hot encoding\n",
    "# Assumed that GDP Category is stored under 'GDP (millions of $)' or some equivalent column name\n",
    "# You need to categorize the GDP values into categories like 'Low', 'Medium', 'High', 'Very High'.\n",
    "# Here we simulate 'GDP_Category' using GDP column for simplicity.\n",
    "# Assuming you categorize GDP manually or have a column 'GDP_Category' available.\n"
   ]
  },
  {
   "cell_type": "code",
   "execution_count": 16,
   "id": "604c4876-6fdd-4d05-b323-16a58ad2ea12",
   "metadata": {},
   "outputs": [],
   "source": [
    "# Step 1: Convert GDP column to numeric\n",
    "data['GDP (millions of $)'] = pd.to_numeric(data['GDP (millions of $)'], errors='coerce')\n",
    "\n",
    "# Step 2: Define the GDP categorization function\n",
    "def categorize_gdp(gdp_value):\n",
    "    if gdp_value < 50000:\n",
    "        return 'Low'\n",
    "    elif 50000 <= gdp_value < 200000:\n",
    "        return 'Medium'\n",
    "    elif 200000 <= gdp_value < 500000:\n",
    "        return 'High'\n",
    "    else:\n",
    "        return 'Very High'\n",
    "\n",
    "# Step 3: Apply the function to create a new 'GDP_Category' column\n",
    "data['GDP_Category'] = data['GDP (millions of $)'].apply(categorize_gdp)\n",
    "\n",
    "# Step 4: Perform one-hot encoding on the GDP category\n",
    "oht = pd.get_dummies(data['GDP_Category'])\n",
    "\n",
    "# Optionally, attach the encoded columns back to your dataframe\n",
    "data = pd.concat([data, oht], axis=1)\n"
   ]
  },
  {
   "cell_type": "code",
   "execution_count": 17,
   "id": "8d5fd881-217d-4b6d-9a7e-037b733bfa3c",
   "metadata": {},
   "outputs": [
    {
     "name": "stdout",
     "output_type": "stream",
     "text": [
      "\n",
      "[Q1] Frequent GDP Categories:\n",
      "    support itemsets\n",
      "0  0.601732    (Low)\n",
      "\n",
      "[Q2] Frequent combinations:\n",
      "Empty DataFrame\n",
      "Columns: [support, itemsets]\n",
      "Index: []\n",
      "\n",
      "[Q3] Dominant category by support:\n",
      "    support itemsets\n",
      "0  0.601732    (Low)\n",
      "\n",
      "[Q4] Rare categories (support < 0.1):\n",
      "Empty DataFrame\n",
      "Columns: [support, itemsets]\n",
      "Index: []\n",
      "\n",
      "[Q5] Total Frequent Itemsets: 1\n"
     ]
    }
   ],
   "source": [
    "# ================================================================\n",
    "# 1. FREQUENT ITEMSETS\n",
    "# ================================================================\n",
    "# Q1: What are the most common GDP categories?\n",
    "frequent_itemsets = apriori(oht, min_support=0.2, use_colnames=True)\n",
    "print(\"\\n[Q1] Frequent GDP Categories:\")\n",
    "print(frequent_itemsets)\n",
    "\n",
    "# Q2: Which GDP categories appear together frequently?\n",
    "print(\"\\n[Q2] Frequent combinations:\")\n",
    "print(frequent_itemsets[frequent_itemsets['itemsets'].apply(lambda x: len(x) > 1)])\n",
    "\n",
    "# Q3: Which GDP category is the most dominant?\n",
    "print(\"\\n[Q3] Dominant category by support:\")\n",
    "print(frequent_itemsets.sort_values(by='support', ascending=False).head(1))\n",
    "\n",
    "# Q4: Are there any rare GDP categories below 10%?\n",
    "print(\"\\n[Q4] Rare categories (support < 0.1):\")\n",
    "print(frequent_itemsets[frequent_itemsets['support'] < 0.1])\n",
    "\n",
    "# Q5: Total number of frequent itemsets found\n",
    "print(\"\\n[Q5] Total Frequent Itemsets:\", len(frequent_itemsets))"
   ]
  },
  {
   "cell_type": "code",
   "execution_count": 18,
   "id": "ea71a5ba-9d80-49c8-87a5-0277f329a9fb",
   "metadata": {},
   "outputs": [
    {
     "name": "stdout",
     "output_type": "stream",
     "text": [
      "\n",
      "[Q6] Closed Frequent Itemsets:\n",
      "    support itemsets\n",
      "0  0.601732    (Low)\n",
      "\n",
      "[Q7] Closed but not maximal:\n",
      "Empty DataFrame\n",
      "Columns: [support, itemsets]\n",
      "Index: []\n",
      "\n",
      "[Q8] Max support among closed itemsets:\n",
      "    support itemsets\n",
      "0  0.601732    (Low)\n"
     ]
    }
   ],
   "source": [
    "# ================================================================\n",
    "# 2. CLOSED ITEMSETS\n",
    "# ================================================================\n",
    "# Q6: What are the closed frequent itemsets?\n",
    "freq_closed = fpmax(oht, min_support=0.2, use_colnames=True)\n",
    "print(\"\\n[Q6] Closed Frequent Itemsets:\")\n",
    "print(freq_closed)\n",
    "\n",
    "# Q7: What itemsets are closed but not maximal?\n",
    "closed_diff = pd.concat([frequent_itemsets, freq_closed]).drop_duplicates(keep=False)\n",
    "print(\"\\n[Q7] Closed but not maximal:\")\n",
    "print(closed_diff)\n",
    "\n",
    "# Q8: What is the max support among closed itemsets?\n",
    "print(\"\\n[Q8] Max support among closed itemsets:\")\n",
    "print(freq_closed.sort_values(by='support', ascending=False).head(1))\n"
   ]
  },
  {
   "cell_type": "code",
   "execution_count": 19,
   "id": "e47aae49-b72c-4068-82bc-9da556224423",
   "metadata": {},
   "outputs": [
    {
     "name": "stdout",
     "output_type": "stream",
     "text": [
      "\n",
      "[Q9] High confidence rules:\n",
      "Empty DataFrame\n",
      "Columns: [antecedents, consequents, antecedent support, consequent support, support, confidence, lift, representativity, leverage, conviction, zhangs_metric, jaccard, certainty, kulczynski]\n",
      "Index: []\n",
      "\n",
      "[Q10] Rules with highest lift:\n",
      "Empty DataFrame\n",
      "Columns: [antecedents, consequents, antecedent support, consequent support, support, confidence, lift, representativity, leverage, conviction, zhangs_metric, jaccard, certainty, kulczynski]\n",
      "Index: []\n",
      "\n",
      "[Q11] Rules implying 'Very High':\n",
      "Empty DataFrame\n",
      "Columns: []\n",
      "Index: []\n"
     ]
    }
   ],
   "source": [
    "# ================================================================\n",
    "# 3. ASSOCIATION RULES\n",
    "# ================================================================\n",
    "rules = association_rules(frequent_itemsets, metric=\"confidence\", min_threshold=0.7)\n",
    "\n",
    "# Q9: What rules have high confidence?\n",
    "print(\"\\n[Q9] High confidence rules:\")\n",
    "print(rules.sort_values(by='confidence', ascending=False).head(5))\n",
    "\n",
    "# Q10: Which rules have high lift?\n",
    "print(\"\\n[Q10] Rules with highest lift:\")\n",
    "print(rules.sort_values(by='lift', ascending=False).head(5))\n",
    "\n",
    "# Q11: Any rules that imply 'Very High' GDP category?\n",
    "print(\"\\n[Q11] Rules implying 'Very High':\")\n",
    "print(rules[rules['consequents'].apply(lambda x: 'Very High' in x)])\n"
   ]
  },
  {
   "cell_type": "code",
   "execution_count": 20,
   "id": "bd00c8dc-afbd-49ae-8e07-b6afe3b4ee82",
   "metadata": {},
   "outputs": [
    {
     "name": "stdout",
     "output_type": "stream",
     "text": [
      "\n",
      "[Q12] Faster mining on smaller dataset (simulated hashing):\n",
      "    support itemsets\n",
      "0  0.594828    (Low)\n",
      "\n",
      "[Q13] Loss in patterns due to smaller data:\n",
      "0\n"
     ]
    }
   ],
   "source": [
    "# ================================================================\n",
    "# 4. APRIORI ALGORITHM (w/ HASHING THOUGHT)\n",
    "# ================================================================\n",
    "# Q12: Can we mine rules faster with hashing?\n",
    "# (Simulated by reducing dataset size)\n",
    "small_data = oht.sample(frac=0.5, random_state=42)\n",
    "small_frequent = apriori(small_data, min_support=0.2, use_colnames=True)\n",
    "print(\"\\n[Q12] Faster mining on smaller dataset (simulated hashing):\")\n",
    "print(small_frequent)\n",
    "\n",
    "# Q13: How does result quality differ when hashing simulated?\n",
    "print(\"\\n[Q13] Loss in patterns due to smaller data:\")\n",
    "print(len(frequent_itemsets) - len(small_frequent))"
   ]
  },
  {
   "cell_type": "code",
   "execution_count": 21,
   "id": "4aac3349-17a6-48fe-8a75-c813c74a03ef",
   "metadata": {},
   "outputs": [
    {
     "name": "stdout",
     "output_type": "stream",
     "text": [
      "\n",
      "[Q14] Total Rules: 0\n",
      "\n",
      "[Q15] Low confidence, high support:\n",
      "Empty DataFrame\n",
      "Columns: [antecedents, consequents, antecedent support, consequent support, support, confidence, lift, representativity, leverage, conviction, zhangs_metric, jaccard, certainty, kulczynski]\n",
      "Index: []\n"
     ]
    }
   ],
   "source": [
    "# ================================================================\n",
    "# 5. ASSOCIATION RULE GENERATION\n",
    "# ================================================================\n",
    "# Q14: How many rules are generated in total?\n",
    "print(\"\\n[Q14] Total Rules:\", len(rules))\n",
    "\n",
    "# Q15: What rules have the lowest confidence but high support?\n",
    "print(\"\\n[Q15] Low confidence, high support:\")\n",
    "print(rules[(rules['confidence'] < 0.8) & (rules['support'] > 0.2)].head())\n"
   ]
  },
  {
   "cell_type": "code",
   "execution_count": 22,
   "id": "36e1b295-7cea-4692-83c5-c610f4c16636",
   "metadata": {},
   "outputs": [
    {
     "name": "stdout",
     "output_type": "stream",
     "text": [
      "\n",
      "[Q16] Runtime for lower min_support: 0.003 seconds\n"
     ]
    }
   ],
   "source": [
    "# ================================================================\n",
    "# 6. APRIORI EFFICIENCY IMPROVEMENTS\n",
    "# ================================================================\n",
    "# Q16: How does runtime change with lower min_support?\n",
    "import time\n",
    "start = time.time()\n",
    "low_support = apriori(oht, min_support=0.1, use_colnames=True)\n",
    "end = time.time()\n",
    "print(\"\\n[Q16] Runtime for lower min_support:\", round(end - start, 3), \"seconds\")"
   ]
  },
  {
   "cell_type": "code",
   "execution_count": 23,
   "id": "bc56b94d-3fcd-4ce1-8455-cb9d14d9fa39",
   "metadata": {},
   "outputs": [
    {
     "name": "stdout",
     "output_type": "stream",
     "text": [
      "\n",
      "[Q17] FP-Growth frequent itemsets:\n",
      "    support itemsets\n",
      "0  0.601732    (Low)\n",
      "[Q18] FP-Growth on low support runtime: 0.003 seconds\n"
     ]
    }
   ],
   "source": [
    "# ================================================================\n",
    "# 7. PATTERN-GROWTH (FP-GROWTH)\n",
    "# ================================================================\n",
    "fpg = fpgrowth(oht, min_support=0.2, use_colnames=True)\n",
    "print(\"\\n[Q17] FP-Growth frequent itemsets:\")\n",
    "print(fpg)\n",
    "\n",
    "\n",
    "# Q18: Is FP-Growth faster than Apriori?\n",
    "start = time.time()\n",
    "_ = fpgrowth(oht, min_support=0.1, use_colnames=True)\n",
    "print(\"[Q18] FP-Growth on low support runtime:\", round(time.time() - start, 3), \"seconds\")"
   ]
  },
  {
   "cell_type": "code",
   "execution_count": 24,
   "id": "a54475c5-d290-49a9-83ae-8001d46e2d5b",
   "metadata": {},
   "outputs": [
    {
     "name": "stdout",
     "output_type": "stream",
     "text": [
      "\n",
      "[Q19] TIDs for 'High': {25, 26, 27, 28, 29, 30, 31, 32, 33, 34, 35, 36, 37, 38, 39, 40, 41, 42, 43, 44, 45, 46, 47, 48, 49, 50, 51, 52}\n"
     ]
    }
   ],
   "source": [
    "# ================================================================\n",
    "# 8. VERTICAL FORMAT MINING (simulated)\n",
    "# ================================================================\n",
    "# Q19: What are TIDs for 'High' GDP?\n",
    "tids = set(data.index[oht['High'] == 1])\n",
    "print(\"\\n[Q19] TIDs for 'High':\", tids)\n"
   ]
  },
  {
   "cell_type": "code",
   "execution_count": 26,
   "id": "9caccc0e-3765-423c-b04a-0dfbfe123c3a",
   "metadata": {},
   "outputs": [
    {
     "name": "stdout",
     "output_type": "stream",
     "text": [
      "Index(['High', 'Low', 'Medium', 'Very High'], dtype='object')\n"
     ]
    }
   ],
   "source": [
    "# ================================================================\n",
    "# 9. HIGH UTILITY ITEMSET MINING (simulation)\n",
    "# ================================================================\n",
    "# Simulate utility scores\n",
    "utility = pd.DataFrame({'High': oht['High'] * 3,\n",
    "                        'Very High': oht['Very High'] * 5,\n",
    "                        'Medium': oht['Medium'] * 2,\n",
    "                        'Low': oht['Low'] * 1})\n",
    "\n",
    "utility['Total_Utility'] = utility.sum(axis=1)\n",
    "print(oht.columns)\n"
   ]
  },
  {
   "cell_type": "code",
   "execution_count": 27,
   "id": "a1cdbf64-c276-4214-a780-a3b4b7008e09",
   "metadata": {},
   "outputs": [
    {
     "name": "stdout",
     "output_type": "stream",
     "text": [
      "\n",
      "[Q20] Top utility GDP records:\n",
      "   High  Very High  Medium  Low  Total_Utility\n",
      "0     0          5       0    0              5\n",
      "1     0          5       0    0              5\n",
      "2     0          5       0    0              5\n",
      "3     0          5       0    0              5\n",
      "4     0          5       0    0              5\n"
     ]
    }
   ],
   "source": [
    "# Q20: What are top 5 records with highest utility?\n",
    "print(\"\\n[Q20] Top utility GDP records:\")\n",
    "print(utility.sort_values(by='Total_Utility', ascending=False).head())"
   ]
  },
  {
   "cell_type": "code",
   "execution_count": 29,
   "id": "343adfaf-9f46-46b2-a1c5-81db2012c162",
   "metadata": {},
   "outputs": [
    {
     "name": "stdout",
     "output_type": "stream",
     "text": [
      "    support itemsets\n",
      "0  0.601732    (Low)\n"
     ]
    }
   ],
   "source": [
    "import pandas as pd\n",
    "import matplotlib.pyplot as plt\n",
    "import networkx as nx\n",
    "\n",
    "# A\n",
    "\n",
    "# Apply FP-growth to generate frequent itemsets\n",
    "fpg = fpgrowth(oht, min_support=0.2, use_colnames=True)\n",
    "\n",
    "# Display frequent itemsets\n",
    "print(fpg)\n"
   ]
  },
  {
   "cell_type": "code",
   "execution_count": 30,
   "id": "e83acf58-ef5e-44cc-9748-cba61fac73f2",
   "metadata": {},
   "outputs": [
    {
     "data": {
      "image/png": "[encoded data removed]",
      "text/plain": [
       "<Figure size 500x500 with 1 Axes>"
      ]
     },
     "metadata": {},
     "output_type": "display_data"
    }
   ],
   "source": [
    "import networkx as nx\n",
    "import matplotlib.pyplot as plt\n",
    "\n",
    "# Helper function to generate FP-Tree structure\n",
    "def generate_fp_tree(itemsets):\n",
    "    G = nx.DiGraph()  # Directed graph for FP-tree\n",
    "    root = 'Root'  # Root of the tree\n",
    "    G.add_node(root)  # Add the root node\n",
    "    \n",
    "    for index, row in itemsets.iterrows():\n",
    "        path = row['itemsets']\n",
    "        parent = root\n",
    "        for item in path:\n",
    "            if not G.has_edge(parent, item):\n",
    "                G.add_edge(parent, item)  # Add edge from parent to item\n",
    "            parent = item\n",
    "    \n",
    "    return G\n",
    "\n",
    "# Generate FP-tree from frequent itemsets\n",
    "fp_tree = generate_fp_tree(fpg)\n",
    "\n",
    "# Visualize the FP-tree\n",
    "plt.figure(figsize=(5, 5))\n",
    "pos = nx.spring_layout(fp_tree, seed=42)\n",
    "nx.draw(fp_tree, pos, with_labels=True, node_size=2000, node_color='skyblue', font_size=12, font_weight='bold', edge_color='gray')\n",
    "plt.title(\"FP-Tree Visualization\")\n",
    "plt.show()\n"
   ]
  },
  {
   "cell_type": "code",
   "execution_count": 31,
   "id": "b18aab26-d919-4101-939a-aef52e7662b1",
   "metadata": {},
   "outputs": [
    {
     "name": "stdout",
     "output_type": "stream",
     "text": [
      "   Agriculture  Industry  Services\n",
      "0        False     False     False\n",
      "1         True      True      True\n",
      "2         True      True      True\n",
      "3         True      True      True\n",
      "4         True      True      True\n",
      "\n",
      "Frequent Itemsets using Apriori:\n",
      "    support                 itemsets\n",
      "0  0.567100            (Agriculture)\n",
      "1  0.696970               (Industry)\n",
      "2  0.822511               (Services)\n",
      "3  0.549784  (Agriculture, Industry)\n",
      "4  0.567100  (Services, Agriculture)\n",
      "\n",
      "Frequent Itemsets using FP-Growth:\n",
      "    support                 itemsets\n",
      "0  0.822511               (Services)\n",
      "1  0.696970               (Industry)\n",
      "2  0.567100            (Agriculture)\n",
      "3  0.692641     (Services, Industry)\n",
      "4  0.567100  (Services, Agriculture)\n",
      "\n",
      "Association Rules using Apriori:\n",
      "     antecedents    consequents  antecedent support  consequent support  \\\n",
      "0  (Agriculture)     (Industry)            0.567100            0.696970   \n",
      "1     (Industry)  (Agriculture)            0.696970            0.567100   \n",
      "2     (Services)  (Agriculture)            0.822511            0.567100   \n",
      "3  (Agriculture)     (Services)            0.567100            0.822511   \n",
      "4     (Services)     (Industry)            0.822511            0.696970   \n",
      "\n",
      "    support  confidence      lift  representativity  leverage  conviction  \\\n",
      "0  0.549784    0.969466  1.390972               1.0  0.154532    9.924242   \n",
      "1  0.549784    0.788820  1.390972               1.0  0.154532    2.049911   \n",
      "2  0.567100    0.689474  1.215789               1.0  0.100654    1.394086   \n",
      "3  0.567100    1.000000  1.215789               1.0  0.100654         inf   \n",
      "4  0.692641    0.842105  1.208238               1.0  0.119376    1.919192   \n",
      "\n",
      "   zhangs_metric   jaccard  certainty  kulczynski  \n",
      "0       0.649291  0.769697   0.899237    0.879143  \n",
      "1       0.927559  0.769697   0.512174    0.879143  \n",
      "2       1.000000  0.689474   0.282684    0.844737  \n",
      "3       0.410000  0.689474   1.000000    0.844737  \n",
      "4       0.971037  0.837696   0.478947    0.917947  \n",
      "\n",
      "Association Rules using FP-Growth:\n",
      "     antecedents    consequents  antecedent support  consequent support  \\\n",
      "0     (Services)     (Industry)            0.822511            0.696970   \n",
      "1     (Industry)     (Services)            0.696970            0.822511   \n",
      "2     (Services)  (Agriculture)            0.822511            0.567100   \n",
      "3  (Agriculture)     (Services)            0.567100            0.822511   \n",
      "4  (Agriculture)     (Industry)            0.567100            0.696970   \n",
      "\n",
      "    support  confidence      lift  representativity  leverage  conviction  \\\n",
      "0  0.692641    0.842105  1.208238               1.0  0.119376    1.919192   \n",
      "1  0.692641    0.993789  1.208238               1.0  0.119376   28.575758   \n",
      "2  0.567100    0.689474  1.215789               1.0  0.100654    1.394086   \n",
      "3  0.567100    1.000000  1.215789               1.0  0.100654         inf   \n",
      "4  0.549784    0.969466  1.390972               1.0  0.154532    9.924242   \n",
      "\n",
      "   zhangs_metric   jaccard  certainty  kulczynski  \n",
      "0       0.971037  0.837696   0.478947    0.917947  \n",
      "1       0.568750  0.837696   0.965005    0.917947  \n",
      "2       1.000000  0.689474   0.282684    0.844737  \n",
      "3       0.410000  0.689474   1.000000    0.844737  \n",
      "4       0.649291  0.769697   0.899237    0.879143  \n",
      "\n",
      "Summary Report:\n",
      "Apriori_Frequent_Itemsets: 7\n",
      "FPGrowth_Frequent_Itemsets: 7\n",
      "Apriori_Association_Rules: 12\n",
      "FPGrowth_Association_Rules: 12\n"
     ]
    },
    {
     "data": {
      "image/png": "[encoded data removed]",
      "text/plain": [
       "<Figure size 1000x600 with 1 Axes>"
      ]
     },
     "metadata": {},
     "output_type": "display_data"
    }
   ],
   "source": [
    "import pandas as pd\n",
    "\n",
    "# Load your dataset\n",
    "data = pd.read_csv('dataset.csv')\n",
    "\n",
    "# Ensure the columns are numeric, coercing errors to NaN\n",
    "data['Agriculture GDP'] = pd.to_numeric(data['Agriculture GDP'], errors='coerce')\n",
    "data['Industry'] = pd.to_numeric(data['Industry'], errors='coerce')\n",
    "data['Services'] = pd.to_numeric(data['Services'], errors='coerce')\n",
    "\n",
    "# Define a threshold for categorizing GDP values\n",
    "threshold = 1000\n",
    "\n",
    "# Create a binary matrix where each column represents a sector, and each row represents a country\n",
    "basket = pd.DataFrame()\n",
    "\n",
    "# Creating binary columns for each sector based on whether the GDP is above the threshold\n",
    "basket['Agriculture'] = data['Agriculture GDP'] > threshold\n",
    "basket['Industry'] = data['Industry'] > threshold\n",
    "basket['Services'] = data['Services'] > threshold\n",
    "\n",
    "# Display the basket dataframe to confirm\n",
    "print(basket.head())\n",
    "\n",
    "\n",
    "# Now we can apply Apriori and FP-Growth algorithms to find frequent itemsets.\n",
    "\n",
    "# Step 3: Perform Apriori algorithm to mine frequent itemsets\n",
    "frequent_itemsets_apriori = apriori(basket, min_support=0.2, use_colnames=True)\n",
    "\n",
    "# Step 4: Generate association rules from the frequent itemsets mined by Apriori\n",
    "rules_apriori = association_rules(frequent_itemsets_apriori, metric=\"lift\", min_threshold=1)\n",
    "\n",
    "# Step 5: Perform FP-Growth algorithm to mine frequent itemsets\n",
    "frequent_itemsets_fpgrowth = fpgrowth(basket, min_support=0.2, use_colnames=True)\n",
    "\n",
    "# Step 6: Generate association rules from the frequent itemsets mined by FP-Growth\n",
    "rules_fpgrowth = association_rules(frequent_itemsets_fpgrowth, metric=\"lift\", min_threshold=1)\n",
    "\n",
    "# Step 7: Save results to CSV files for further analysis\n",
    "frequent_itemsets_apriori.to_csv('Frequent_Itemsets_Apriori.csv', index=False)\n",
    "frequent_itemsets_fpgrowth.to_csv('Frequent_Itemsets_FPGrowth.csv', index=False)\n",
    "rules_apriori.to_csv('Association_Rules_Apriori.csv', index=False)\n",
    "rules_fpgrowth.to_csv('Association_Rules_FPGrowth.csv', index=False)\n",
    "\n",
    "# Step 8: Display the results\n",
    "print(\"\\nFrequent Itemsets using Apriori:\")\n",
    "print(frequent_itemsets_apriori.head())\n",
    "\n",
    "print(\"\\nFrequent Itemsets using FP-Growth:\")\n",
    "print(frequent_itemsets_fpgrowth.head())\n",
    "\n",
    "print(\"\\nAssociation Rules using Apriori:\")\n",
    "print(rules_apriori.head())\n",
    "\n",
    "print(\"\\nAssociation Rules using FP-Growth:\")\n",
    "print(rules_fpgrowth.head())\n",
    "\n",
    "# Step 9: Generate a summary report\n",
    "summary_report = {\n",
    "    \"Apriori_Frequent_Itemsets\": frequent_itemsets_apriori.shape[0],\n",
    "    \"FPGrowth_Frequent_Itemsets\": frequent_itemsets_fpgrowth.shape[0],\n",
    "    \"Apriori_Association_Rules\": rules_apriori.shape[0],\n",
    "    \"FPGrowth_Association_Rules\": rules_fpgrowth.shape[0]\n",
    "}\n",
    "\n",
    "# Step 10: Display the summary report\n",
    "print(\"\\nSummary Report:\")\n",
    "for key, value in summary_report.items():\n",
    "    print(f\"{key}: {value}\")\n",
    "\n",
    "# Optional: Visualize the association rules (Top 10 by lift)\n",
    "import matplotlib.pyplot as plt\n",
    "import seaborn as sns\n",
    "\n",
    "# Plotting the top 10 association rules based on lift\n",
    "plt.figure(figsize=(10, 6))\n",
    "sns.barplot(x='lift', y='antecedents', data=rules_apriori.nlargest(10, 'lift'))\n",
    "plt.title('Top 10 Association Rules (Apriori) by Lift')\n",
    "plt.show()\n"
   ]
  },
  {
   "cell_type": "code",
   "execution_count": 6,
   "id": "2e5b2877-80ed-4d5c-bea8-ed94ce6d7f02",
   "metadata": {},
   "outputs": [
    {
     "name": "stderr",
     "output_type": "stream",
     "text": [
      "C:\\Users\\aksha\\AppData\\Local\\Programs\\Python\\Python312\\Lib\\site-packages\\mlxtend\\frequent_patterns\\fpcommon.py:161: DeprecationWarning: DataFrames with non-bool types result in worse computationalperformance and their support might be discontinued in the future.Please use a DataFrame with bool type\n",
      "  warnings.warn(\n"
     ]
    },
    {
     "data": {
      "image/png": "[encoded data removed]",
      "text/plain": [
       "<Figure size 600x400 with 1 Axes>"
      ]
     },
     "metadata": {},
     "output_type": "display_data"
    },
    {
     "name": "stderr",
     "output_type": "stream",
     "text": [
      "C:\\Users\\aksha\\AppData\\Local\\Temp\\ipykernel_11460\\1742610869.py:42: SettingWithCopyWarning: \n",
      "A value is trying to be set on a copy of a slice from a DataFrame.\n",
      "Try using .loc[row_indexer,col_indexer] = value instead\n",
      "\n",
      "See the caveats in the documentation: https://pandas.pydata.org/pandas-docs/stable/user_guide/indexing.html#returning-a-view-versus-a-copy\n",
      "  rules_table['antecedents'] = rules_table['antecedents'].apply(lambda x: ', '.join(list(x)))\n",
      "C:\\Users\\aksha\\AppData\\Local\\Temp\\ipykernel_11460\\1742610869.py:43: SettingWithCopyWarning: \n",
      "A value is trying to be set on a copy of a slice from a DataFrame.\n",
      "Try using .loc[row_indexer,col_indexer] = value instead\n",
      "\n",
      "See the caveats in the documentation: https://pandas.pydata.org/pandas-docs/stable/user_guide/indexing.html#returning-a-view-versus-a-copy\n",
      "  rules_table['consequents'] = rules_table['consequents'].apply(lambda x: ', '.join(list(x)))\n"
     ]
    },
    {
     "data": {
      "text/html": [
       "<div>\n",
       "<style scoped>\n",
       "    .dataframe tbody tr th:only-of-type {\n",
       "        vertical-align: middle;\n",
       "    }\n",
       "\n",
       "    .dataframe tbody tr th {\n",
       "        vertical-align: top;\n",
       "    }\n",
       "\n",
       "    .dataframe thead th {\n",
       "        text-align: right;\n",
       "    }\n",
       "</style>\n",
       "<table border=\"1\" class=\"dataframe\">\n",
       "  <thead>\n",
       "    <tr style=\"text-align: right;\">\n",
       "      <th></th>\n",
       "      <th>antecedents</th>\n",
       "      <th>consequents</th>\n",
       "      <th>support</th>\n",
       "      <th>confidence</th>\n",
       "      <th>lift</th>\n",
       "    </tr>\n",
       "  </thead>\n",
       "  <tbody>\n",
       "    <tr>\n",
       "      <th>0</th>\n",
       "      <td>Industry</td>\n",
       "      <td>Agriculture</td>\n",
       "      <td>0.549784</td>\n",
       "      <td>0.788820</td>\n",
       "      <td>1.390972</td>\n",
       "    </tr>\n",
       "    <tr>\n",
       "      <th>1</th>\n",
       "      <td>Agriculture</td>\n",
       "      <td>Industry</td>\n",
       "      <td>0.549784</td>\n",
       "      <td>0.969466</td>\n",
       "      <td>1.390972</td>\n",
       "    </tr>\n",
       "    <tr>\n",
       "      <th>2</th>\n",
       "      <td>Services</td>\n",
       "      <td>Agriculture</td>\n",
       "      <td>0.567100</td>\n",
       "      <td>0.689474</td>\n",
       "      <td>1.215789</td>\n",
       "    </tr>\n",
       "    <tr>\n",
       "      <th>3</th>\n",
       "      <td>Agriculture</td>\n",
       "      <td>Services</td>\n",
       "      <td>0.567100</td>\n",
       "      <td>1.000000</td>\n",
       "      <td>1.215789</td>\n",
       "    </tr>\n",
       "    <tr>\n",
       "      <th>4</th>\n",
       "      <td>Industry</td>\n",
       "      <td>Services</td>\n",
       "      <td>0.692641</td>\n",
       "      <td>0.993789</td>\n",
       "      <td>1.208238</td>\n",
       "    </tr>\n",
       "    <tr>\n",
       "      <th>5</th>\n",
       "      <td>Services</td>\n",
       "      <td>Industry</td>\n",
       "      <td>0.692641</td>\n",
       "      <td>0.842105</td>\n",
       "      <td>1.208238</td>\n",
       "    </tr>\n",
       "    <tr>\n",
       "      <th>6</th>\n",
       "      <td>Industry, Services</td>\n",
       "      <td>Agriculture</td>\n",
       "      <td>0.549784</td>\n",
       "      <td>0.793750</td>\n",
       "      <td>1.399666</td>\n",
       "    </tr>\n",
       "    <tr>\n",
       "      <th>7</th>\n",
       "      <td>Industry, Agriculture</td>\n",
       "      <td>Services</td>\n",
       "      <td>0.549784</td>\n",
       "      <td>1.000000</td>\n",
       "      <td>1.215789</td>\n",
       "    </tr>\n",
       "    <tr>\n",
       "      <th>8</th>\n",
       "      <td>Services, Agriculture</td>\n",
       "      <td>Industry</td>\n",
       "      <td>0.549784</td>\n",
       "      <td>0.969466</td>\n",
       "      <td>1.390972</td>\n",
       "    </tr>\n",
       "    <tr>\n",
       "      <th>9</th>\n",
       "      <td>Industry</td>\n",
       "      <td>Services, Agriculture</td>\n",
       "      <td>0.549784</td>\n",
       "      <td>0.788820</td>\n",
       "      <td>1.390972</td>\n",
       "    </tr>\n",
       "    <tr>\n",
       "      <th>10</th>\n",
       "      <td>Services</td>\n",
       "      <td>Industry, Agriculture</td>\n",
       "      <td>0.549784</td>\n",
       "      <td>0.668421</td>\n",
       "      <td>1.215789</td>\n",
       "    </tr>\n",
       "    <tr>\n",
       "      <th>11</th>\n",
       "      <td>Agriculture</td>\n",
       "      <td>Industry, Services</td>\n",
       "      <td>0.549784</td>\n",
       "      <td>0.969466</td>\n",
       "      <td>1.399666</td>\n",
       "    </tr>\n",
       "  </tbody>\n",
       "</table>\n",
       "</div>"
      ],
      "text/plain": [
       "              antecedents            consequents   support  confidence  \\\n",
       "0                Industry            Agriculture  0.549784    0.788820   \n",
       "1             Agriculture               Industry  0.549784    0.969466   \n",
       "2                Services            Agriculture  0.567100    0.689474   \n",
       "3             Agriculture               Services  0.567100    1.000000   \n",
       "4                Industry               Services  0.692641    0.993789   \n",
       "5                Services               Industry  0.692641    0.842105   \n",
       "6      Industry, Services            Agriculture  0.549784    0.793750   \n",
       "7   Industry, Agriculture               Services  0.549784    1.000000   \n",
       "8   Services, Agriculture               Industry  0.549784    0.969466   \n",
       "9                Industry  Services, Agriculture  0.549784    0.788820   \n",
       "10               Services  Industry, Agriculture  0.549784    0.668421   \n",
       "11            Agriculture     Industry, Services  0.549784    0.969466   \n",
       "\n",
       "        lift  \n",
       "0   1.390972  \n",
       "1   1.390972  \n",
       "2   1.215789  \n",
       "3   1.215789  \n",
       "4   1.208238  \n",
       "5   1.208238  \n",
       "6   1.399666  \n",
       "7   1.215789  \n",
       "8   1.390972  \n",
       "9   1.390972  \n",
       "10  1.215789  \n",
       "11  1.399666  "
      ]
     },
     "metadata": {},
     "output_type": "display_data"
    },
    {
     "data": {
      "image/png": "[encoded data removed]",
      "text/plain": [
       "<Figure size 600x400 with 1 Axes>"
      ]
     },
     "metadata": {},
     "output_type": "display_data"
    }
   ],
   "source": [
    "import pandas as pd\n",
    "from mlxtend.frequent_patterns import apriori, association_rules\n",
    "import matplotlib.pyplot as plt\n",
    "import networkx as nx\n",
    "\n",
    "# Load the dataset\n",
    "data = pd.read_csv('dataset.csv')\n",
    "\n",
    "# Convert GDP values to numeric\n",
    "for col in ['Agriculture GDP', 'Industry', 'Services']:\n",
    "    data[col] = pd.to_numeric(data[col], errors='coerce')\n",
    "\n",
    "# Define threshold\n",
    "threshold = 1000\n",
    "\n",
    "# Create binary matrix (basket)\n",
    "basket = pd.DataFrame()\n",
    "basket['Agriculture'] = data['Agriculture GDP'] > threshold\n",
    "basket['Industry'] = data['Industry'] > threshold\n",
    "basket['Services'] = data['Services'] > threshold\n",
    "\n",
    "# Ensure boolean values are cast to int\n",
    "basket = basket.astype(int)\n",
    "\n",
    "# Run Apriori algorithm\n",
    "frequent_itemsets = apriori(basket, min_support=0.1, use_colnames=True)\n",
    "\n",
    "# Generate association rules\n",
    "rules = association_rules(frequent_itemsets, metric=\"confidence\", min_threshold=0.5)\n",
    "\n",
    "# 1. Support vs Confidence Scatter Plot\n",
    "plt.figure(figsize=(6, 4))\n",
    "plt.scatter(rules['support'], rules['confidence'], alpha=0.7)\n",
    "plt.xlabel('Support')\n",
    "plt.ylabel('Confidence')\n",
    "plt.title('Support vs Confidence')\n",
    "plt.grid(True)\n",
    "plt.show()\n",
    "\n",
    "# 2. Association Rules Table\n",
    "rules_table = rules[['antecedents', 'consequents', 'support', 'confidence', 'lift']]\n",
    "rules_table['antecedents'] = rules_table['antecedents'].apply(lambda x: ', '.join(list(x)))\n",
    "rules_table['consequents'] = rules_table['consequents'].apply(lambda x: ', '.join(list(x)))\n",
    "display(rules_table)\n",
    "\n",
    "# 3. Sample FP-Tree (Simplified Mock Tree just for visualization)\n",
    "# Build a sample tree based on frequent itemsets\n",
    "G = nx.DiGraph()\n",
    "\n",
    "# Add nodes and edges (simplified for visual purposes)\n",
    "G.add_edge(\"root\", \"Agriculture\")\n",
    "G.add_edge(\"Agriculture\", \"Industry\")\n",
    "G.add_edge(\"Industry\", \"Services\")\n",
    "\n",
    "pos = nx.spring_layout(G)\n",
    "plt.figure(figsize=(6, 4))\n",
    "nx.draw(G, pos, with_labels=True, node_size=2000, node_color='skyblue', font_size=12, arrows=True)\n",
    "plt.title(\"Sample FP-Tree (Mock-up)\")\n",
    "plt.show()\n"
   ]
  },
  {
   "cell_type": "code",
   "execution_count": 13,
   "id": "76c107e1-d97d-4de7-9b00-8379f26e3d26",
   "metadata": {},
   "outputs": [
    {
     "data": {
      "text/plain": [
       "Index(['Index Number ', 'Rank', 'Country/Economy', 'GDP (millions of $)',\n",
       "       'Agriculture GDP', 'Unnamed: 5', 'Unnamed: 6', 'Industry', 'Unnamed: 8',\n",
       "       'Unnamed: 9', 'Services', 'Unnamed: 11', 'Unnamed: 12', 'Year GDP ',\n",
       "       'Year Sector'],\n",
       "      dtype='object')"
      ]
     },
     "execution_count": 13,
     "metadata": {},
     "output_type": "execute_result"
    }
   ],
   "source": [
    "data.columns"
   ]
  }
 ],
 "metadata": {
  "kernelspec": {
   "display_name": "Python 3 (ipykernel)",
   "language": "python",
   "name": "python3"
  },
  "language_info": {
   "codemirror_mode": {
    "name": "ipython",
    "version": 3
   },
   "file_extension": ".py",
   "mimetype": "text/x-python",
   "name": "python",
   "nbconvert_exporter": "python",
   "pygments_lexer": "ipython3",
   "version": "3.12.4"
  }
 },
 "nbformat": 4,
 "nbformat_minor": 5
}
